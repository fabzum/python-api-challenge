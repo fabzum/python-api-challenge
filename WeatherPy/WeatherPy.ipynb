{
 "cells": [
  {
   "cell_type": "markdown",
   "metadata": {},
   "source": [
    "# WeatherPy\n",
    "----\n"
   ]
  },
  {
   "cell_type": "code",
   "execution_count": 1,
   "metadata": {
    "scrolled": true
   },
   "outputs": [],
   "source": [
    "# Dependencies and Setup\n",
    "import matplotlib.pyplot as plt\n",
    "import pandas as pd\n",
    "import numpy as np\n",
    "import requests\n",
    "import time\n",
    "from scipy.stats import linregress\n",
    "from pprint import pprint\n",
    "import os\n",
    "import csv\n",
    "\n",
    "# Import API key\n",
    "from api_key import weather_api_key\n",
    "\n",
    "# Incorporated citipy to determine city based on latitude and longitude\n",
    "from citipy import citipy\n",
    "\n",
    "# Output File (CSV)\n",
    "output_data_file = \"csv_output/cities.csv\"\n",
    "\n",
    "# Range of latitudes and longitudes\n",
    "lat_range = (-90, 90)\n",
    "lng_range = (-180, 180)"
   ]
  },
  {
   "cell_type": "markdown",
   "metadata": {},
   "source": [
    "## Generate Cities List"
   ]
  },
  {
   "cell_type": "code",
   "execution_count": 2,
   "metadata": {},
   "outputs": [
    {
     "data": {
      "text/plain": [
       "620"
      ]
     },
     "execution_count": 2,
     "metadata": {},
     "output_type": "execute_result"
    }
   ],
   "source": [
    "# List for holding lat_lngs and cities\n",
    "lat_lngs = []\n",
    "cities = []\n",
    "\n",
    "# Create a set of random lat and lng combinations\n",
    "lats = np.random.uniform(low=-90.000, high=90.000, size=1500)\n",
    "lngs = np.random.uniform(low=-180.000, high=180.000, size=1500)\n",
    "lat_lngs = zip(lats, lngs)\n",
    "\n",
    "# Identify nearest city for each lat, lng combination\n",
    "for lat_lng in lat_lngs:\n",
    "    city = citipy.nearest_city(lat_lng[0], lat_lng[1]).city_name\n",
    "    \n",
    "    # If the city is unique, then add it to a our cities list\n",
    "    if city not in cities:\n",
    "        cities.append(city)\n",
    "\n",
    "# Print the city count to confirm sufficient count\n",
    "len(cities)"
   ]
  },
  {
   "cell_type": "markdown",
   "metadata": {},
   "source": [
    "### Perform API Calls\n",
    "* Perform a weather check on each city using a series of successive API calls.\n",
    "* Include a print log of each city as it's being processed (with the city number and city name).\n"
   ]
  },
  {
   "cell_type": "code",
   "execution_count": 3,
   "metadata": {},
   "outputs": [],
   "source": [
    "url = \"http://api.openweathermap.org/data/2.5/weather?\"\n",
    "units = \"imperial\"\n",
    "\n",
    "query_url = f\"{url}appid={weather_api_key}&units={units}&q=\""
   ]
  },
  {
   "cell_type": "code",
   "execution_count": 4,
   "metadata": {},
   "outputs": [
    {
     "name": "stdout",
     "output_type": "stream",
     "text": [
      "Beginning Data Retrieval\n",
      "------------------------\n",
      "Processing Record 1 of Set 1 |mataura\n",
      "Processing Record 2 of Set 1 |butaritari\n",
      "Processing Record 3 of Set 1 |rikitea\n",
      "Processing Record 4 of Set 1 |port hawkesbury\n",
      "Processing Record 5 of Set 1 |ushuaia\n",
      "Processing Record 6 of Set 1 |torbay\n",
      "City not found. Skipping...\n",
      "Processing Record 7 of Set 1 |kapaa\n",
      "Processing Record 8 of Set 1 |vardo\n",
      "Processing Record 9 of Set 1 |arua\n",
      "Processing Record 10 of Set 1 |khatanga\n",
      "Processing Record 11 of Set 1 |saldanha\n",
      "Processing Record 12 of Set 1 |hofn\n",
      "Processing Record 13 of Set 1 |barrow\n",
      "Processing Record 14 of Set 1 |husavik\n",
      "Processing Record 15 of Set 1 |qaqortoq\n",
      "Processing Record 16 of Set 1 |constitucion\n",
      "City not found. Skipping...\n",
      "Processing Record 17 of Set 1 |qaanaaq\n",
      "Processing Record 18 of Set 1 |airai\n",
      "Processing Record 19 of Set 1 |addis abeba\n",
      "Processing Record 20 of Set 1 |kaseda\n",
      "Processing Record 21 of Set 1 |ngunguru\n",
      "Processing Record 22 of Set 1 |punta arenas\n",
      "Processing Record 23 of Set 1 |berlevag\n",
      "Processing Record 24 of Set 1 |bull savanna\n",
      "City not found. Skipping...\n",
      "Processing Record 25 of Set 1 |albany\n",
      "Processing Record 26 of Set 1 |pedernales\n",
      "Processing Record 27 of Set 1 |tuktoyaktuk\n",
      "Processing Record 28 of Set 1 |warmbad\n",
      "Processing Record 29 of Set 1 |hobart\n",
      "Processing Record 30 of Set 1 |la baule-escoublac\n",
      "Processing Record 31 of Set 1 |limbang\n",
      "Processing Record 32 of Set 1 |bredasdorp\n",
      "Processing Record 33 of Set 1 |krasnoselkup\n",
      "Processing Record 34 of Set 1 |port alfred\n",
      "City not found. Skipping...\n",
      "Processing Record 35 of Set 1 |ayabaca\n",
      "Processing Record 36 of Set 1 |sao filipe\n",
      "Processing Record 37 of Set 1 |upernavik\n",
      "Processing Record 38 of Set 1 |jamestown\n",
      "Processing Record 39 of Set 1 |kamina\n",
      "Processing Record 40 of Set 1 |road town\n",
      "Processing Record 41 of Set 1 |ormara\n",
      "Processing Record 42 of Set 1 |east london\n",
      "Processing Record 43 of Set 1 |coos bay\n",
      "Processing Record 44 of Set 1 |new norfolk\n",
      "City not found. Skipping...\n",
      "Processing Record 45 of Set 1 |saskylakh\n",
      "Processing Record 46 of Set 1 |mathbaria\n",
      "Processing Record 47 of Set 1 |port hardy\n",
      "Processing Record 48 of Set 1 |hilo\n",
      "Processing Record 49 of Set 1 |fox lake\n",
      "Processing Record 50 of Set 1 |tahe\n",
      "Processing Record 51 of Set 1 |pevek\n",
      "Processing Record 52 of Set 1 |shirgaon\n",
      "Processing Record 53 of Set 1 |coquimbo\n",
      "Processing Record 54 of Set 1 |gayny\n",
      "Processing Record 55 of Set 1 |cape town\n",
      "Processing Record 56 of Set 1 |biloela\n",
      "Processing Record 57 of Set 1 |goulburn\n",
      "Processing Record 58 of Set 1 |lubango\n",
      "Processing Record 59 of Set 1 |serenje\n",
      "Processing Record 60 of Set 1 |dalbandin\n",
      "Processing Record 61 of Set 1 |graaff-reinet\n",
      "Processing Record 62 of Set 1 |flateby\n",
      "Processing Record 63 of Set 1 |pavino\n",
      "City not found. Skipping...\n",
      "Processing Record 64 of Set 1 |mufulira\n",
      "Processing Record 65 of Set 1 |dingle\n",
      "Processing Record 66 of Set 1 |zacualtipan\n",
      "Processing Record 67 of Set 1 |poretskoye\n",
      "Processing Record 68 of Set 1 |ponta do sol\n",
      "Processing Record 69 of Set 1 |georgetown\n",
      "Processing Record 70 of Set 1 |lata\n",
      "Processing Record 71 of Set 1 |kaeo\n",
      "Processing Record 72 of Set 1 |norman wells\n",
      "Processing Record 73 of Set 1 |bayangol\n",
      "City not found. Skipping...\n",
      "Processing Record 74 of Set 1 |lorengau\n",
      "Processing Record 75 of Set 1 |yumen\n",
      "Processing Record 76 of Set 1 |beaver falls\n",
      "Processing Record 77 of Set 1 |ous\n",
      "Processing Record 78 of Set 1 |northam\n",
      "City not found. Skipping...\n",
      "Processing Record 79 of Set 1 |chokurdakh\n",
      "Processing Record 80 of Set 1 |hithadhoo\n",
      "Processing Record 81 of Set 1 |krasnyy chikoy\n",
      "Processing Record 82 of Set 1 |olafsvik\n",
      "Processing Record 83 of Set 1 |nanortalik\n",
      "City not found. Skipping...\n",
      "Processing Record 84 of Set 1 |busselton\n",
      "Processing Record 85 of Set 1 |general pico\n",
      "Processing Record 86 of Set 1 |saint-philippe\n",
      "Processing Record 87 of Set 1 |bogovina\n",
      "Processing Record 88 of Set 1 |kirkwall\n",
      "Processing Record 89 of Set 1 |marfino\n",
      "City not found. Skipping...\n",
      "Processing Record 90 of Set 1 |alvaraes\n",
      "Processing Record 91 of Set 1 |tymovskoye\n",
      "Processing Record 92 of Set 1 |hamilton\n",
      "Processing Record 93 of Set 1 |vila velha\n",
      "Processing Record 94 of Set 1 |stolin\n",
      "Processing Record 95 of Set 1 |nantucket\n",
      "Processing Record 96 of Set 1 |san vicente\n",
      "Processing Record 97 of Set 1 |vostok\n",
      "City not found. Skipping...\n",
      "Processing Record 98 of Set 1 |katsuura\n",
      "Processing Record 99 of Set 1 |lavrentiya\n",
      "Processing Record 100 of Set 1 |bluff\n",
      "Processing Record 101 of Set 1 |port elizabeth\n",
      "Processing Record 102 of Set 1 |pinega\n",
      "Processing Record 103 of Set 1 |lora del rio\n",
      "Processing Record 104 of Set 1 |tiksi\n",
      "Processing Record 105 of Set 1 |atuona\n",
      "City not found. Skipping...\n",
      "Processing Record 106 of Set 1 |daru\n",
      "Processing Record 107 of Set 1 |ketchikan\n",
      "Processing Record 108 of Set 1 |sao joao da barra\n",
      "Processing Record 109 of Set 1 |yellowknife\n",
      "Processing Record 110 of Set 1 |nagato\n",
      "City not found. Skipping...\n",
      "Processing Record 111 of Set 1 |kitimat\n",
      "City not found. Skipping...\n",
      "Processing Record 112 of Set 1 |bengkulu\n",
      "City not found. Skipping...\n",
      "Processing Record 113 of Set 1 |alofi\n",
      "Processing Record 114 of Set 1 |fortuna\n",
      "Processing Record 115 of Set 1 |guanare\n",
      "Processing Record 116 of Set 1 |ribeira grande\n",
      "Processing Record 117 of Set 1 |sisimiut\n",
      "Processing Record 118 of Set 1 |puerto penasco\n",
      "Processing Record 119 of Set 1 |bergama\n",
      "Processing Record 120 of Set 1 |srednekolymsk\n",
      "City not found. Skipping...\n",
      "Processing Record 121 of Set 1 |thompson\n",
      "Processing Record 122 of Set 1 |longyearbyen\n",
      "Processing Record 123 of Set 1 |yaan\n",
      "Processing Record 124 of Set 1 |tres lagoas\n",
      "Processing Record 125 of Set 1 |tasiilaq\n",
      "Processing Record 126 of Set 1 |puerto ayora\n",
      "Processing Record 127 of Set 1 |waipawa\n",
      "City not found. Skipping...\n",
      "Processing Record 128 of Set 1 |carnarvon\n",
      "Processing Record 129 of Set 1 |port blair\n",
      "Processing Record 130 of Set 1 |cap-aux-meules\n",
      "Processing Record 131 of Set 1 |zhanaozen\n",
      "Processing Record 132 of Set 1 |vaini\n",
      "Processing Record 133 of Set 1 |lakhdenpokhya\n",
      "Processing Record 134 of Set 1 |narsaq\n",
      "Processing Record 135 of Set 1 |bandundu\n",
      "City not found. Skipping...\n",
      "Processing Record 136 of Set 1 |te anau\n",
      "Processing Record 137 of Set 1 |methoni\n",
      "Processing Record 138 of Set 1 |ilulissat\n",
      "Processing Record 139 of Set 1 |murgab\n",
      "Processing Record 140 of Set 1 |lucapa\n",
      "City not found. Skipping...\n",
      "Processing Record 141 of Set 1 |gazanjyk\n",
      "Processing Record 142 of Set 1 |rio grande\n",
      "Processing Record 143 of Set 1 |gombong\n",
      "Processing Record 144 of Set 1 |port stanley\n",
      "Processing Record 145 of Set 1 |dongying\n",
      "Processing Record 146 of Set 1 |inhambane\n",
      "Processing Record 147 of Set 1 |esperance\n",
      "Processing Record 148 of Set 1 |grand gaube\n",
      "Processing Record 149 of Set 1 |chuy\n",
      "Processing Record 150 of Set 1 |billings\n",
      "Processing Record 151 of Set 1 |buraydah\n",
      "Processing Record 152 of Set 1 |klaksvik\n",
      "Processing Record 153 of Set 1 |saint-augustin\n",
      "Processing Record 154 of Set 1 |santa cruz\n",
      "Processing Record 155 of Set 1 |nicolas bravo\n",
      "Processing Record 156 of Set 1 |montrose\n",
      "Processing Record 157 of Set 1 |cayenne\n",
      "Processing Record 158 of Set 1 |stephenville\n",
      "Processing Record 159 of Set 1 |kahului\n",
      "Processing Record 160 of Set 1 |leningradskiy\n",
      "Processing Record 161 of Set 1 |hermanus\n",
      "Processing Record 162 of Set 1 |pangkalanbuun\n",
      "Processing Record 163 of Set 1 |laguna\n",
      "City not found. Skipping...\n",
      "Processing Record 164 of Set 1 |iqaluit\n",
      "Processing Record 165 of Set 1 |riachao das neves\n",
      "Processing Record 166 of Set 1 |castro\n",
      "City not found. Skipping...\n",
      "Processing Record 167 of Set 1 |kloulklubed\n",
      "Processing Record 168 of Set 1 |victoria\n",
      "Processing Record 169 of Set 1 |la peca\n",
      "Processing Record 170 of Set 1 |hulan\n",
      "Processing Record 171 of Set 1 |santa cruz del sur\n",
      "City not found. Skipping...\n",
      "Processing Record 172 of Set 1 |bulaevo\n",
      "Processing Record 173 of Set 1 |brae\n",
      "Processing Record 174 of Set 1 |melfort\n",
      "Processing Record 175 of Set 1 |wloclawek\n",
      "Processing Record 176 of Set 1 |college\n",
      "Processing Record 177 of Set 1 |bethel\n",
      "Processing Record 178 of Set 1 |saint george\n",
      "Processing Record 179 of Set 1 |hasanabad\n",
      "Processing Record 180 of Set 1 |mar del plata\n",
      "Processing Record 181 of Set 1 |dwarka\n",
      "Processing Record 182 of Set 1 |goderich\n",
      "Processing Record 183 of Set 1 |kalmunai\n",
      "Processing Record 184 of Set 1 |cabo san lucas\n",
      "Processing Record 185 of Set 1 |teahupoo\n"
     ]
    },
    {
     "name": "stdout",
     "output_type": "stream",
     "text": [
      "Processing Record 186 of Set 1 |mount isa\n",
      "Processing Record 187 of Set 1 |vila franca do campo\n",
      "Processing Record 188 of Set 1 |arraial do cabo\n",
      "City not found. Skipping...\n",
      "Processing Record 189 of Set 1 |honiara\n",
      "Processing Record 190 of Set 1 |geraldton\n",
      "Processing Record 191 of Set 1 |dikson\n",
      "Processing Record 192 of Set 1 |auki\n",
      "Processing Record 193 of Set 1 |marsa matruh\n",
      "Processing Record 194 of Set 1 |takoradi\n",
      "Processing Record 195 of Set 1 |eureka\n",
      "Processing Record 196 of Set 1 |yatou\n",
      "Processing Record 197 of Set 1 |lompoc\n",
      "City not found. Skipping...\n",
      "City not found. Skipping...\n",
      "City not found. Skipping...\n",
      "Processing Record 198 of Set 1 |marsh harbour\n",
      "Processing Record 199 of Set 1 |moose factory\n",
      "Processing Record 200 of Set 1 |san patricio\n",
      "Processing Record 201 of Set 1 |arman\n",
      "Processing Record 202 of Set 1 |redmond\n",
      "Processing Record 203 of Set 1 |san cristobal\n",
      "Processing Record 204 of Set 1 |srandakan\n",
      "Processing Record 205 of Set 1 |san juan\n",
      "Processing Record 206 of Set 1 |mamlyutka\n",
      "Processing Record 207 of Set 1 |faanui\n",
      "Processing Record 208 of Set 1 |kavieng\n",
      "Processing Record 209 of Set 1 |scarborough\n",
      "Processing Record 210 of Set 1 |lagoa\n",
      "Processing Record 211 of Set 1 |martapura\n",
      "Processing Record 212 of Set 1 |sanchor\n",
      "Processing Record 213 of Set 1 |beni suef\n",
      "Processing Record 214 of Set 1 |kenai\n",
      "Processing Record 215 of Set 1 |touros\n",
      "City not found. Skipping...\n",
      "Processing Record 216 of Set 1 |avarua\n",
      "Processing Record 217 of Set 1 |luau\n",
      "Processing Record 218 of Set 1 |kaitangata\n",
      "Processing Record 219 of Set 1 |high prairie\n",
      "Processing Record 220 of Set 1 |dong xoai\n",
      "Processing Record 221 of Set 1 |isangel\n",
      "Processing Record 222 of Set 1 |west bay\n",
      "Processing Record 223 of Set 1 |zhigansk\n",
      "City not found. Skipping...\n",
      "Processing Record 224 of Set 1 |mwinilunga\n",
      "Processing Record 225 of Set 1 |sandakan\n",
      "Processing Record 226 of Set 1 |aktau\n",
      "Processing Record 227 of Set 1 |saba\n",
      "Processing Record 228 of Set 1 |oksfjord\n",
      "Processing Record 229 of Set 1 |sitka\n",
      "Processing Record 230 of Set 1 |morrope\n",
      "Processing Record 231 of Set 1 |grand-santi\n",
      "Processing Record 232 of Set 1 |podyuga\n",
      "City not found. Skipping...\n",
      "Processing Record 233 of Set 1 |lebu\n",
      "City not found. Skipping...\n",
      "Processing Record 234 of Set 1 |harstad\n",
      "Processing Record 235 of Set 1 |okha\n",
      "Processing Record 236 of Set 1 |port lincoln\n",
      "Processing Record 237 of Set 1 |hasaki\n",
      "Processing Record 238 of Set 1 |shelburne\n",
      "Processing Record 239 of Set 1 |maniitsoq\n",
      "Processing Record 240 of Set 1 |fukue\n",
      "Processing Record 241 of Set 1 |grindavik\n",
      "Processing Record 242 of Set 1 |zhicheng\n",
      "Processing Record 243 of Set 1 |campbell river\n",
      "Processing Record 244 of Set 1 |kununurra\n",
      "Processing Record 245 of Set 1 |antofagasta\n",
      "Processing Record 246 of Set 1 |liverpool\n",
      "Processing Record 247 of Set 1 |ibiracu\n",
      "Processing Record 248 of Set 1 |nikolskoye\n",
      "Processing Record 249 of Set 1 |jos\n",
      "Processing Record 250 of Set 1 |noumea\n",
      "Processing Record 251 of Set 1 |krasnyy tkach\n",
      "Processing Record 252 of Set 1 |mastic beach\n",
      "Processing Record 253 of Set 1 |kodiak\n",
      "Processing Record 254 of Set 1 |tarabuco\n",
      "Processing Record 255 of Set 1 |mahebourg\n",
      "Processing Record 256 of Set 1 |tecpan\n",
      "Processing Record 257 of Set 1 |hami\n",
      "Processing Record 258 of Set 1 |baruun-urt\n",
      "Processing Record 259 of Set 1 |pisco\n",
      "Processing Record 260 of Set 1 |provideniya\n",
      "Processing Record 261 of Set 1 |kupino\n",
      "Processing Record 262 of Set 1 |souillac\n",
      "Processing Record 263 of Set 1 |diamantino\n",
      "Processing Record 264 of Set 1 |qorveh\n",
      "Processing Record 265 of Set 1 |clyde river\n",
      "Processing Record 266 of Set 1 |kieta\n",
      "Processing Record 267 of Set 1 |kholodnyy\n",
      "Processing Record 268 of Set 1 |san quintin\n",
      "Processing Record 269 of Set 1 |nadym\n",
      "Processing Record 270 of Set 1 |sitrah\n",
      "Processing Record 271 of Set 1 |shamkhal\n",
      "Processing Record 272 of Set 1 |cidreira\n",
      "Processing Record 273 of Set 1 |robertson\n",
      "Processing Record 274 of Set 1 |casablanca\n",
      "City not found. Skipping...\n",
      "Processing Record 275 of Set 1 |ayr\n",
      "City not found. Skipping...\n",
      "Processing Record 276 of Set 1 |labuhan\n",
      "Processing Record 277 of Set 1 |fairview\n",
      "Processing Record 278 of Set 1 |severo-kurilsk\n",
      "Processing Record 279 of Set 1 |cherskiy\n",
      "Processing Record 280 of Set 1 |gizo\n",
      "Processing Record 281 of Set 1 |pavagada\n",
      "Processing Record 282 of Set 1 |huarmey\n",
      "City not found. Skipping...\n",
      "Processing Record 283 of Set 1 |saint-louis\n",
      "Processing Record 284 of Set 1 |ximei\n",
      "Processing Record 285 of Set 1 |murashi\n",
      "Processing Record 286 of Set 1 |christchurch\n",
      "Processing Record 287 of Set 1 |tokur\n",
      "Processing Record 288 of Set 1 |pemex\n",
      "Processing Record 289 of Set 1 |aloleng\n",
      "Processing Record 290 of Set 1 |viedma\n",
      "Processing Record 291 of Set 1 |rocha\n",
      "Processing Record 292 of Set 1 |atambua\n",
      "Processing Record 293 of Set 1 |ulladulla\n",
      "Processing Record 294 of Set 1 |novobirilyussy\n",
      "Processing Record 295 of Set 1 |piacabucu\n",
      "Processing Record 296 of Set 1 |flin flon\n",
      "Processing Record 297 of Set 1 |kavaratti\n",
      "Processing Record 298 of Set 1 |ternate\n",
      "Processing Record 299 of Set 1 |richards bay\n",
      "Processing Record 300 of Set 1 |ambilobe\n",
      "Processing Record 301 of Set 1 |menongue\n",
      "Processing Record 302 of Set 1 |pangnirtung\n",
      "Processing Record 303 of Set 1 |tabou\n",
      "Processing Record 304 of Set 1 |deputatskiy\n",
      "Processing Record 305 of Set 1 |dunedin\n",
      "Processing Record 306 of Set 1 |vestmannaeyjar\n",
      "Processing Record 307 of Set 1 |kutum\n",
      "Processing Record 308 of Set 1 |kaniama\n",
      "City not found. Skipping...\n",
      "Processing Record 309 of Set 1 |iwanai\n",
      "Processing Record 310 of Set 1 |tugulym\n",
      "Processing Record 311 of Set 1 |carutapera\n",
      "Processing Record 312 of Set 1 |algeciras\n",
      "Processing Record 313 of Set 1 |mount gambier\n",
      "Processing Record 314 of Set 1 |wahiawa\n",
      "Processing Record 315 of Set 1 |maragogi\n",
      "Processing Record 316 of Set 1 |chicama\n",
      "Processing Record 317 of Set 1 |krasnoborsk\n",
      "Processing Record 318 of Set 1 |state college\n",
      "Processing Record 319 of Set 1 |wilmington\n",
      "Processing Record 320 of Set 1 |tecolutla\n",
      "City not found. Skipping...\n",
      "Processing Record 321 of Set 1 |salalah\n",
      "Processing Record 322 of Set 1 |hay river\n",
      "Processing Record 323 of Set 1 |gerede\n",
      "City not found. Skipping...\n",
      "Processing Record 324 of Set 1 |algiers\n",
      "Processing Record 325 of Set 1 |emmett\n",
      "Processing Record 326 of Set 1 |port hedland\n",
      "Processing Record 327 of Set 1 |nuuk\n",
      "Processing Record 328 of Set 1 |los llanos de aridane\n",
      "Processing Record 329 of Set 1 |hovd\n",
      "City not found. Skipping...\n",
      "City not found. Skipping...\n",
      "Processing Record 330 of Set 1 |codrington\n",
      "Processing Record 331 of Set 1 |oranjemund\n",
      "Processing Record 332 of Set 1 |zhangjiakou\n",
      "Processing Record 333 of Set 1 |mandalgovi\n",
      "Processing Record 334 of Set 1 |tuatapere\n",
      "Processing Record 335 of Set 1 |impfondo\n",
      "Processing Record 336 of Set 1 |talcahuano\n",
      "Processing Record 337 of Set 1 |pryazha\n",
      "Processing Record 338 of Set 1 |kennett\n",
      "Processing Record 339 of Set 1 |fairbanks\n",
      "Processing Record 340 of Set 1 |bay roberts\n",
      "Processing Record 341 of Set 1 |mareeba\n",
      "City not found. Skipping...\n",
      "Processing Record 342 of Set 1 |makakilo city\n",
      "Processing Record 343 of Set 1 |butembo\n",
      "City not found. Skipping...\n",
      "City not found. Skipping...\n",
      "Processing Record 344 of Set 1 |winneba\n",
      "Processing Record 345 of Set 1 |shimoda\n",
      "Processing Record 346 of Set 1 |turkistan\n",
      "Processing Record 347 of Set 1 |boquira\n",
      "Processing Record 348 of Set 1 |basco\n",
      "Processing Record 349 of Set 1 |banff\n",
      "Processing Record 350 of Set 1 |bambous virieux\n",
      "Processing Record 351 of Set 1 |jonesboro\n",
      "Processing Record 352 of Set 1 |cedar city\n",
      "Processing Record 353 of Set 1 |derzhavinsk\n",
      "City not found. Skipping...\n",
      "Processing Record 354 of Set 1 |karasjok\n",
      "Processing Record 355 of Set 1 |lazarev\n",
      "Processing Record 356 of Set 1 |roald\n",
      "Processing Record 357 of Set 1 |mandera\n",
      "Processing Record 358 of Set 1 |kudahuvadhoo\n",
      "Processing Record 359 of Set 1 |kem\n",
      "Processing Record 360 of Set 1 |aklavik\n",
      "Processing Record 361 of Set 1 |zaranj\n",
      "Processing Record 362 of Set 1 |tianpeng\n",
      "Processing Record 363 of Set 1 |puerto gaitan\n",
      "Processing Record 364 of Set 1 |asau\n",
      "Processing Record 365 of Set 1 |komsomolskiy\n",
      "Processing Record 366 of Set 1 |matara\n",
      "Processing Record 367 of Set 1 |sistranda\n",
      "Processing Record 368 of Set 1 |margate\n",
      "Processing Record 369 of Set 1 |tazovskiy\n",
      "Processing Record 370 of Set 1 |korla\n",
      "Processing Record 371 of Set 1 |myaundzha\n"
     ]
    },
    {
     "name": "stdout",
     "output_type": "stream",
     "text": [
      "City not found. Skipping...\n",
      "Processing Record 372 of Set 1 |concepcion\n",
      "Processing Record 373 of Set 1 |guerrero negro\n",
      "Processing Record 374 of Set 1 |birao\n",
      "Processing Record 375 of Set 1 |coyah\n",
      "Processing Record 376 of Set 1 |bandarban\n",
      "Processing Record 377 of Set 1 |eruwa\n",
      "Processing Record 378 of Set 1 |leshukonskoye\n",
      "Processing Record 379 of Set 1 |gigmoto\n",
      "Processing Record 380 of Set 1 |tual\n",
      "Processing Record 381 of Set 1 |biak\n",
      "Processing Record 382 of Set 1 |ostrovnoy\n",
      "Processing Record 383 of Set 1 |fuerte olimpo\n",
      "Processing Record 384 of Set 1 |zima\n",
      "Processing Record 385 of Set 1 |cap malheureux\n",
      "Processing Record 386 of Set 1 |shache\n",
      "City not found. Skipping...\n",
      "City not found. Skipping...\n",
      "Processing Record 387 of Set 1 |nouadhibou\n",
      "Processing Record 388 of Set 1 |bolekhiv\n",
      "Processing Record 389 of Set 1 |victor harbor\n",
      "Processing Record 390 of Set 1 |lenger\n",
      "Processing Record 391 of Set 1 |dir\n",
      "Processing Record 392 of Set 1 |bartica\n",
      "Processing Record 393 of Set 1 |praia da vitoria\n",
      "Processing Record 394 of Set 1 |yeppoon\n",
      "Processing Record 395 of Set 1 |marystown\n",
      "Processing Record 396 of Set 1 |mezen\n",
      "Processing Record 397 of Set 1 |bichena\n",
      "Processing Record 398 of Set 1 |yarensk\n",
      "Processing Record 399 of Set 1 |hohen neuendorf\n",
      "Processing Record 400 of Set 1 |tiarei\n",
      "Processing Record 401 of Set 1 |chifeng\n",
      "Processing Record 402 of Set 1 |gorontalo\n",
      "Processing Record 403 of Set 1 |gambissara\n",
      "Processing Record 404 of Set 1 |miyako\n",
      "Processing Record 405 of Set 1 |gazojak\n",
      "Processing Record 406 of Set 1 |esik\n",
      "Processing Record 407 of Set 1 |yabrud\n",
      "Processing Record 408 of Set 1 |hirara\n",
      "Processing Record 409 of Set 1 |mpongwe\n",
      "Processing Record 410 of Set 1 |padang\n",
      "Processing Record 411 of Set 1 |nykoping\n",
      "Processing Record 412 of Set 1 |buala\n",
      "Processing Record 413 of Set 1 |chornobay\n",
      "Processing Record 414 of Set 1 |abu dhabi\n",
      "Processing Record 415 of Set 1 |bako\n",
      "Processing Record 416 of Set 1 |broome\n",
      "City not found. Skipping...\n",
      "Processing Record 417 of Set 1 |cizre\n",
      "Processing Record 418 of Set 1 |roma\n",
      "City not found. Skipping...\n",
      "Processing Record 419 of Set 1 |auchel\n",
      "Processing Record 420 of Set 1 |yar-sale\n",
      "Processing Record 421 of Set 1 |kuchinarai\n",
      "Processing Record 422 of Set 1 |byron bay\n",
      "City not found. Skipping...\n",
      "Processing Record 423 of Set 1 |ambon\n",
      "Processing Record 424 of Set 1 |rocky river\n",
      "Processing Record 425 of Set 1 |hailey\n",
      "Processing Record 426 of Set 1 |balakhta\n",
      "Processing Record 427 of Set 1 |kampong thum\n",
      "Processing Record 428 of Set 1 |springbok\n",
      "Processing Record 429 of Set 1 |camacha\n",
      "Processing Record 430 of Set 1 |shubarkuduk\n",
      "Processing Record 431 of Set 1 |verkhoyansk\n",
      "Processing Record 432 of Set 1 |sayansk\n",
      "Processing Record 433 of Set 1 |kurayoshi\n",
      "Processing Record 434 of Set 1 |karratha\n",
      "Processing Record 435 of Set 1 |nemuro\n",
      "Processing Record 436 of Set 1 |neuquen\n",
      "City not found. Skipping...\n",
      "Processing Record 437 of Set 1 |isla mujeres\n",
      "Processing Record 438 of Set 1 |cocorit\n",
      "Processing Record 439 of Set 1 |raudeberg\n",
      "Processing Record 440 of Set 1 |gayeri\n",
      "Processing Record 441 of Set 1 |bannu\n",
      "Processing Record 442 of Set 1 |chateaubelair\n",
      "Processing Record 443 of Set 1 |kalianget\n",
      "Processing Record 444 of Set 1 |koslan\n",
      "Processing Record 445 of Set 1 |harper\n",
      "Processing Record 446 of Set 1 |hobyo\n",
      "Processing Record 447 of Set 1 |puerto madero\n",
      "Processing Record 448 of Set 1 |la ronge\n",
      "Processing Record 449 of Set 1 |olinda\n",
      "Processing Record 450 of Set 1 |sarangani\n",
      "Processing Record 451 of Set 1 |westport\n",
      "Processing Record 452 of Set 1 |san bartolome\n",
      "Processing Record 453 of Set 1 |letlhakane\n",
      "Processing Record 454 of Set 1 |coihaique\n",
      "Processing Record 455 of Set 1 |baykit\n",
      "Processing Record 456 of Set 1 |kidal\n",
      "Processing Record 457 of Set 1 |fort nelson\n",
      "Processing Record 458 of Set 1 |xapuri\n",
      "Processing Record 459 of Set 1 |imbituba\n",
      "Processing Record 460 of Set 1 |palestine\n",
      "Processing Record 461 of Set 1 |lima\n",
      "Processing Record 462 of Set 1 |taoudenni\n",
      "Processing Record 463 of Set 1 |batemans bay\n",
      "Processing Record 464 of Set 1 |denpasar\n",
      "Processing Record 465 of Set 1 |bilibino\n",
      "Processing Record 466 of Set 1 |pervomaysk\n",
      "Processing Record 467 of Set 1 |pitimbu\n",
      "Processing Record 468 of Set 1 |luderitz\n",
      "Processing Record 469 of Set 1 |shingu\n",
      "Processing Record 470 of Set 1 |coxim\n",
      "Processing Record 471 of Set 1 |khuzdar\n",
      "Processing Record 472 of Set 1 |aldan\n",
      "Processing Record 473 of Set 1 |vanavara\n",
      "Processing Record 474 of Set 1 |sao jose da coroa grande\n",
      "City not found. Skipping...\n",
      "Processing Record 475 of Set 1 |kruisfontein\n",
      "Processing Record 476 of Set 1 |sembakung\n",
      "Processing Record 477 of Set 1 |dalvik\n",
      "Processing Record 478 of Set 1 |bulolo\n",
      "Processing Record 479 of Set 1 |arteaga\n",
      "Processing Record 480 of Set 1 |bereda\n",
      "Processing Record 481 of Set 1 |joue-les-tours\n",
      "Processing Record 482 of Set 1 |kargasok\n",
      "City not found. Skipping...\n",
      "Processing Record 483 of Set 1 |cockburn town\n",
      "Processing Record 484 of Set 1 |lucea\n",
      "Processing Record 485 of Set 1 |benemerito de las americas\n",
      "City not found. Skipping...\n",
      "Processing Record 486 of Set 1 |kansanshi\n",
      "Processing Record 487 of Set 1 |durban\n",
      "Processing Record 488 of Set 1 |nurota\n",
      "Processing Record 489 of Set 1 |guasdualito\n",
      "Processing Record 490 of Set 1 |palmer\n",
      "Processing Record 491 of Set 1 |san rafael del sur\n",
      "Processing Record 492 of Set 1 |dauriya\n",
      "Processing Record 493 of Set 1 |khorinsk\n",
      "Processing Record 494 of Set 1 |umba\n",
      "Processing Record 495 of Set 1 |miandrivazo\n",
      "Processing Record 496 of Set 1 |yining\n",
      "Processing Record 497 of Set 1 |diffa\n",
      "Processing Record 498 of Set 1 |necochea\n",
      "Processing Record 499 of Set 1 |gat\n",
      "City not found. Skipping...\n",
      "Processing Record 500 of Set 1 |ancud\n",
      "Processing Record 501 of Set 1 |selikhino\n",
      "City not found. Skipping...\n",
      "Processing Record 502 of Set 1 |juneau\n",
      "Processing Record 503 of Set 1 |djambala\n",
      "City not found. Skipping...\n",
      "City not found. Skipping...\n",
      "Processing Record 504 of Set 1 |valparaiso\n",
      "Processing Record 505 of Set 1 |medicine hat\n",
      "Processing Record 506 of Set 1 |naze\n",
      "Processing Record 507 of Set 1 |solone\n",
      "City not found. Skipping...\n",
      "Processing Record 508 of Set 1 |morgan city\n",
      "Processing Record 509 of Set 1 |gwadar\n",
      "Processing Record 510 of Set 1 |conakry\n",
      "Processing Record 511 of Set 1 |keetmanshoop\n",
      "City not found. Skipping...\n",
      "Processing Record 512 of Set 1 |ola\n",
      "Processing Record 513 of Set 1 |chapais\n",
      "Processing Record 514 of Set 1 |pathein\n",
      "Processing Record 515 of Set 1 |susuman\n",
      "Processing Record 516 of Set 1 |leua\n",
      "City not found. Skipping...\n",
      "Processing Record 517 of Set 1 |nouakchott\n",
      "City not found. Skipping...\n",
      "Processing Record 518 of Set 1 |qarchak\n",
      "Processing Record 519 of Set 1 |sol-iletsk\n",
      "City not found. Skipping...\n",
      "Processing Record 520 of Set 1 |nalut\n",
      "Processing Record 521 of Set 1 |san matias\n",
      "Processing Record 522 of Set 1 |tilichiki\n",
      "Processing Record 523 of Set 1 |tarakan\n",
      "Processing Record 524 of Set 1 |sao gabriel da cachoeira\n",
      "Processing Record 525 of Set 1 |laramie\n",
      "Processing Record 526 of Set 1 |krasnoturansk\n",
      "Processing Record 527 of Set 1 |balkanabat\n",
      "Processing Record 528 of Set 1 |russell\n",
      "Processing Record 529 of Set 1 |yulara\n",
      "Processing Record 530 of Set 1 |vadso\n",
      "Processing Record 531 of Set 1 |mashpee\n",
      "Processing Record 532 of Set 1 |nabire\n",
      "City not found. Skipping...\n",
      "Processing Record 533 of Set 1 |stonewall\n",
      "City not found. Skipping...\n",
      "Processing Record 534 of Set 1 |egvekinot\n",
      "Processing Record 535 of Set 1 |coxquihui\n",
      "Processing Record 536 of Set 1 |mehamn\n",
      "Processing Record 537 of Set 1 |bontang\n",
      "Processing Record 538 of Set 1 |makat\n",
      "Processing Record 539 of Set 1 |port keats\n",
      "Processing Record 540 of Set 1 |owando\n",
      "Processing Record 541 of Set 1 |bambui\n",
      "City not found. Skipping...\n",
      "Processing Record 542 of Set 1 |puerto escondido\n",
      "Processing Record 543 of Set 1 |camacari\n",
      "Processing Record 544 of Set 1 |tsiroanomandidy\n",
      "Processing Record 545 of Set 1 |kumo\n",
      "Processing Record 546 of Set 1 |tartus\n",
      "Processing Record 547 of Set 1 |bridlington\n",
      "Processing Record 548 of Set 1 |tezu\n",
      "Processing Record 549 of Set 1 |sunndalsora\n",
      "Processing Record 550 of Set 1 |sobolevo\n",
      "Processing Record 551 of Set 1 |ballina\n",
      "Processing Record 552 of Set 1 |sovetskaya gavan\n",
      "Processing Record 553 of Set 1 |syracuse\n",
      "City not found. Skipping...\n",
      "Processing Record 554 of Set 1 |marathon\n",
      "Processing Record 555 of Set 1 |namibe\n"
     ]
    }
   ],
   "source": [
    "name = []\n",
    "cloud = []\n",
    "country = []\n",
    "date = []\n",
    "humidity = []\n",
    "lat = []\n",
    "lng = []\n",
    "max_temp = []\n",
    "wind_speed = []\n",
    "\n",
    "print(f\"Beginning Data Retrieval\")\n",
    "print(f\"------------------------\")\n",
    "\n",
    "for city in cities:\n",
    "    response = requests.get(query_url + city).json()\n",
    "\n",
    "    try:\n",
    "        name.append(response[\"name\"])\n",
    "        cloud.append(response[\"clouds\"][\"all\"])\n",
    "        country.append(response[\"sys\"][\"country\"])\n",
    "        date.append(response[\"dt\"])\n",
    "        humidity.append(response[\"main\"][\"humidity\"])\n",
    "        lat.append(response[\"coord\"][\"lat\"])\n",
    "        lng.append(response[\"coord\"][\"lon\"])\n",
    "        max_temp.append(response[\"main\"][\"temp_max\"])\n",
    "        wind_speed.append(response[\"wind\"][\"speed\"])\n",
    "        print(f\"Processing Record {len(name)} of Set 1 |{city}\")\n",
    "    \n",
    "          \n",
    "    except:\n",
    "        print(f\"City not found. Skipping...\")\n",
    "        pass"
   ]
  },
  {
   "cell_type": "markdown",
   "metadata": {},
   "source": [
    "### Convert Raw Data to DataFrame\n",
    "* Export the city data into a .csv.\n",
    "* Display the DataFrame"
   ]
  },
  {
   "cell_type": "code",
   "execution_count": 5,
   "metadata": {},
   "outputs": [
    {
     "name": "stdout",
     "output_type": "stream",
     "text": [
      " City 555\n",
      " Cloudiness 555\n",
      " Country 555\n",
      " Date 555\n",
      " Humidity 555\n",
      " Lat 555\n",
      " Lng 555\n",
      " Max Temp 555\n",
      " Wind Speed 555\n"
     ]
    }
   ],
   "source": [
    "#Check the count, to make sure that there have been no missing values\n",
    "print(f\" City {len(name)}\")\n",
    "print(f\" Cloudiness {len(cloud)}\")\n",
    "print(f\" Country {len(country)}\")\n",
    "print(f\" Date {len(date)}\")\n",
    "print(f\" Humidity {len(humidity)}\")\n",
    "print(f\" Lat {len(lat)}\")\n",
    "print(f\" Lng {len(lng)}\")\n",
    "print(f\" Max Temp {len(max_temp)}\")\n",
    "print(f\" Wind Speed {len(wind_speed)}\")"
   ]
  },
  {
   "cell_type": "code",
   "execution_count": 7,
   "metadata": {},
   "outputs": [
    {
     "data": {
      "text/html": [
       "<div>\n",
       "<style scoped>\n",
       "    .dataframe tbody tr th:only-of-type {\n",
       "        vertical-align: middle;\n",
       "    }\n",
       "\n",
       "    .dataframe tbody tr th {\n",
       "        vertical-align: top;\n",
       "    }\n",
       "\n",
       "    .dataframe thead th {\n",
       "        text-align: right;\n",
       "    }\n",
       "</style>\n",
       "<table border=\"1\" class=\"dataframe\">\n",
       "  <thead>\n",
       "    <tr style=\"text-align: right;\">\n",
       "      <th></th>\n",
       "      <th>City</th>\n",
       "      <th>Cloudiness</th>\n",
       "      <th>Country</th>\n",
       "      <th>Date</th>\n",
       "      <th>Humidity</th>\n",
       "      <th>Lat</th>\n",
       "      <th>Lng</th>\n",
       "      <th>Max Temp</th>\n",
       "      <th>Wind Speed</th>\n",
       "    </tr>\n",
       "  </thead>\n",
       "  <tbody>\n",
       "    <tr>\n",
       "      <th>0</th>\n",
       "      <td>Mataura</td>\n",
       "      <td>0</td>\n",
       "      <td>NZ</td>\n",
       "      <td>1586555520</td>\n",
       "      <td>95</td>\n",
       "      <td>-46.19</td>\n",
       "      <td>168.86</td>\n",
       "      <td>50.00</td>\n",
       "      <td>3.00</td>\n",
       "    </tr>\n",
       "    <tr>\n",
       "      <th>1</th>\n",
       "      <td>Butaritari</td>\n",
       "      <td>100</td>\n",
       "      <td>KI</td>\n",
       "      <td>1586555408</td>\n",
       "      <td>74</td>\n",
       "      <td>3.07</td>\n",
       "      <td>172.79</td>\n",
       "      <td>84.42</td>\n",
       "      <td>9.37</td>\n",
       "    </tr>\n",
       "    <tr>\n",
       "      <th>2</th>\n",
       "      <td>Rikitea</td>\n",
       "      <td>77</td>\n",
       "      <td>PF</td>\n",
       "      <td>1586555478</td>\n",
       "      <td>74</td>\n",
       "      <td>-23.12</td>\n",
       "      <td>-134.97</td>\n",
       "      <td>77.00</td>\n",
       "      <td>5.95</td>\n",
       "    </tr>\n",
       "    <tr>\n",
       "      <th>3</th>\n",
       "      <td>Port Hawkesbury</td>\n",
       "      <td>90</td>\n",
       "      <td>CA</td>\n",
       "      <td>1586555521</td>\n",
       "      <td>69</td>\n",
       "      <td>45.62</td>\n",
       "      <td>-61.35</td>\n",
       "      <td>41.00</td>\n",
       "      <td>18.34</td>\n",
       "    </tr>\n",
       "    <tr>\n",
       "      <th>4</th>\n",
       "      <td>Ushuaia</td>\n",
       "      <td>75</td>\n",
       "      <td>AR</td>\n",
       "      <td>1586555519</td>\n",
       "      <td>70</td>\n",
       "      <td>-54.80</td>\n",
       "      <td>-68.30</td>\n",
       "      <td>46.40</td>\n",
       "      <td>26.40</td>\n",
       "    </tr>\n",
       "    <tr>\n",
       "      <th>5</th>\n",
       "      <td>Torbay</td>\n",
       "      <td>90</td>\n",
       "      <td>CA</td>\n",
       "      <td>1586555521</td>\n",
       "      <td>100</td>\n",
       "      <td>47.67</td>\n",
       "      <td>-52.73</td>\n",
       "      <td>41.00</td>\n",
       "      <td>25.28</td>\n",
       "    </tr>\n",
       "    <tr>\n",
       "      <th>6</th>\n",
       "      <td>Kapaa</td>\n",
       "      <td>1</td>\n",
       "      <td>US</td>\n",
       "      <td>1586555372</td>\n",
       "      <td>61</td>\n",
       "      <td>22.08</td>\n",
       "      <td>-159.32</td>\n",
       "      <td>78.80</td>\n",
       "      <td>12.75</td>\n",
       "    </tr>\n",
       "    <tr>\n",
       "      <th>7</th>\n",
       "      <td>Vardø</td>\n",
       "      <td>100</td>\n",
       "      <td>NO</td>\n",
       "      <td>1586555522</td>\n",
       "      <td>90</td>\n",
       "      <td>70.37</td>\n",
       "      <td>31.11</td>\n",
       "      <td>28.89</td>\n",
       "      <td>16.69</td>\n",
       "    </tr>\n",
       "    <tr>\n",
       "      <th>8</th>\n",
       "      <td>Arua</td>\n",
       "      <td>90</td>\n",
       "      <td>UG</td>\n",
       "      <td>1586555522</td>\n",
       "      <td>46</td>\n",
       "      <td>3.02</td>\n",
       "      <td>30.91</td>\n",
       "      <td>71.22</td>\n",
       "      <td>4.41</td>\n",
       "    </tr>\n",
       "    <tr>\n",
       "      <th>9</th>\n",
       "      <td>Khatanga</td>\n",
       "      <td>100</td>\n",
       "      <td>RU</td>\n",
       "      <td>1586555474</td>\n",
       "      <td>97</td>\n",
       "      <td>71.97</td>\n",
       "      <td>102.50</td>\n",
       "      <td>29.35</td>\n",
       "      <td>23.29</td>\n",
       "    </tr>\n",
       "    <tr>\n",
       "      <th>10</th>\n",
       "      <td>Saldanha</td>\n",
       "      <td>0</td>\n",
       "      <td>ZA</td>\n",
       "      <td>1586555522</td>\n",
       "      <td>88</td>\n",
       "      <td>-33.01</td>\n",
       "      <td>17.94</td>\n",
       "      <td>62.60</td>\n",
       "      <td>6.93</td>\n",
       "    </tr>\n",
       "    <tr>\n",
       "      <th>11</th>\n",
       "      <td>Hofn</td>\n",
       "      <td>100</td>\n",
       "      <td>IS</td>\n",
       "      <td>1586555522</td>\n",
       "      <td>86</td>\n",
       "      <td>64.25</td>\n",
       "      <td>-15.21</td>\n",
       "      <td>40.42</td>\n",
       "      <td>10.85</td>\n",
       "    </tr>\n",
       "    <tr>\n",
       "      <th>12</th>\n",
       "      <td>Barrow</td>\n",
       "      <td>90</td>\n",
       "      <td>US</td>\n",
       "      <td>1586555345</td>\n",
       "      <td>76</td>\n",
       "      <td>71.29</td>\n",
       "      <td>-156.79</td>\n",
       "      <td>-4.00</td>\n",
       "      <td>11.41</td>\n",
       "    </tr>\n",
       "    <tr>\n",
       "      <th>13</th>\n",
       "      <td>Husavik</td>\n",
       "      <td>90</td>\n",
       "      <td>IS</td>\n",
       "      <td>1586555523</td>\n",
       "      <td>90</td>\n",
       "      <td>66.04</td>\n",
       "      <td>-17.34</td>\n",
       "      <td>32.00</td>\n",
       "      <td>4.70</td>\n",
       "    </tr>\n",
       "    <tr>\n",
       "      <th>14</th>\n",
       "      <td>Qaqortoq</td>\n",
       "      <td>100</td>\n",
       "      <td>GL</td>\n",
       "      <td>1586555523</td>\n",
       "      <td>26</td>\n",
       "      <td>60.72</td>\n",
       "      <td>-46.03</td>\n",
       "      <td>44.60</td>\n",
       "      <td>33.33</td>\n",
       "    </tr>\n",
       "    <tr>\n",
       "      <th>15</th>\n",
       "      <td>Constitución</td>\n",
       "      <td>17</td>\n",
       "      <td>CL</td>\n",
       "      <td>1586555523</td>\n",
       "      <td>65</td>\n",
       "      <td>-35.33</td>\n",
       "      <td>-72.42</td>\n",
       "      <td>60.57</td>\n",
       "      <td>10.27</td>\n",
       "    </tr>\n",
       "    <tr>\n",
       "      <th>16</th>\n",
       "      <td>Qaanaaq</td>\n",
       "      <td>4</td>\n",
       "      <td>GL</td>\n",
       "      <td>1586555523</td>\n",
       "      <td>81</td>\n",
       "      <td>77.48</td>\n",
       "      <td>-69.36</td>\n",
       "      <td>7.41</td>\n",
       "      <td>5.73</td>\n",
       "    </tr>\n",
       "    <tr>\n",
       "      <th>17</th>\n",
       "      <td>Airai</td>\n",
       "      <td>6</td>\n",
       "      <td>TL</td>\n",
       "      <td>1586555524</td>\n",
       "      <td>71</td>\n",
       "      <td>-8.93</td>\n",
       "      <td>125.41</td>\n",
       "      <td>59.76</td>\n",
       "      <td>0.51</td>\n",
       "    </tr>\n",
       "    <tr>\n",
       "      <th>18</th>\n",
       "      <td>Addis Ababa</td>\n",
       "      <td>75</td>\n",
       "      <td>ET</td>\n",
       "      <td>1586555524</td>\n",
       "      <td>48</td>\n",
       "      <td>9.03</td>\n",
       "      <td>38.75</td>\n",
       "      <td>64.40</td>\n",
       "      <td>3.36</td>\n",
       "    </tr>\n",
       "    <tr>\n",
       "      <th>19</th>\n",
       "      <td>Kaseda-shirakame</td>\n",
       "      <td>75</td>\n",
       "      <td>JP</td>\n",
       "      <td>1586555524</td>\n",
       "      <td>81</td>\n",
       "      <td>31.42</td>\n",
       "      <td>130.32</td>\n",
       "      <td>46.40</td>\n",
       "      <td>1.12</td>\n",
       "    </tr>\n",
       "  </tbody>\n",
       "</table>\n",
       "</div>"
      ],
      "text/plain": [
       "                City  Cloudiness Country        Date  Humidity    Lat     Lng  \\\n",
       "0            Mataura           0      NZ  1586555520        95 -46.19  168.86   \n",
       "1         Butaritari         100      KI  1586555408        74   3.07  172.79   \n",
       "2            Rikitea          77      PF  1586555478        74 -23.12 -134.97   \n",
       "3    Port Hawkesbury          90      CA  1586555521        69  45.62  -61.35   \n",
       "4            Ushuaia          75      AR  1586555519        70 -54.80  -68.30   \n",
       "5             Torbay          90      CA  1586555521       100  47.67  -52.73   \n",
       "6              Kapaa           1      US  1586555372        61  22.08 -159.32   \n",
       "7              Vardø         100      NO  1586555522        90  70.37   31.11   \n",
       "8               Arua          90      UG  1586555522        46   3.02   30.91   \n",
       "9           Khatanga         100      RU  1586555474        97  71.97  102.50   \n",
       "10          Saldanha           0      ZA  1586555522        88 -33.01   17.94   \n",
       "11              Hofn         100      IS  1586555522        86  64.25  -15.21   \n",
       "12            Barrow          90      US  1586555345        76  71.29 -156.79   \n",
       "13           Husavik          90      IS  1586555523        90  66.04  -17.34   \n",
       "14          Qaqortoq         100      GL  1586555523        26  60.72  -46.03   \n",
       "15      Constitución          17      CL  1586555523        65 -35.33  -72.42   \n",
       "16           Qaanaaq           4      GL  1586555523        81  77.48  -69.36   \n",
       "17             Airai           6      TL  1586555524        71  -8.93  125.41   \n",
       "18       Addis Ababa          75      ET  1586555524        48   9.03   38.75   \n",
       "19  Kaseda-shirakame          75      JP  1586555524        81  31.42  130.32   \n",
       "\n",
       "    Max Temp  Wind Speed  \n",
       "0      50.00        3.00  \n",
       "1      84.42        9.37  \n",
       "2      77.00        5.95  \n",
       "3      41.00       18.34  \n",
       "4      46.40       26.40  \n",
       "5      41.00       25.28  \n",
       "6      78.80       12.75  \n",
       "7      28.89       16.69  \n",
       "8      71.22        4.41  \n",
       "9      29.35       23.29  \n",
       "10     62.60        6.93  \n",
       "11     40.42       10.85  \n",
       "12     -4.00       11.41  \n",
       "13     32.00        4.70  \n",
       "14     44.60       33.33  \n",
       "15     60.57       10.27  \n",
       "16      7.41        5.73  \n",
       "17     59.76        0.51  \n",
       "18     64.40        3.36  \n",
       "19     46.40        1.12  "
      ]
     },
     "execution_count": 7,
     "metadata": {},
     "output_type": "execute_result"
    }
   ],
   "source": [
    "#Create a Dataframe\n",
    "city_weather = pd.DataFrame({\n",
    "        \"City\" : name,\n",
    "        \"Cloudiness\" : cloud,\n",
    "        \"Country\" : country, \n",
    "        \"Date\" : date, \n",
    "        \"Humidity\" : humidity,\n",
    "        \"Lat\" : lat,\n",
    "        \"Lng\" : lng,\n",
    "        \"Max Temp\" : max_temp,\n",
    "        \"Wind Speed\" : wind_speed \n",
    "})\n",
    "\n",
    "city_weather.head(20)"
   ]
  },
  {
   "cell_type": "code",
   "execution_count": 8,
   "metadata": {},
   "outputs": [],
   "source": [
    "city_weather.to_csv(output_data_file, index = False, header= True)"
   ]
  },
  {
   "cell_type": "markdown",
   "metadata": {},
   "source": [
    "### Plotting the Data\n",
    "* Use proper labeling of the plots using plot titles (including date of analysis) and axes labels.\n",
    "* Save the plotted figures as .pngs."
   ]
  },
  {
   "cell_type": "markdown",
   "metadata": {},
   "source": [
    "#### Latitude vs. Temperature Plot"
   ]
  },
  {
   "cell_type": "code",
   "execution_count": 9,
   "metadata": {},
   "outputs": [
    {
     "data": {
      "image/png": "[encoded data removed]",
      "text/plain": [
       "<Figure size 432x288 with 1 Axes>"
      ]
     },
     "metadata": {
      "needs_background": "light"
     },
     "output_type": "display_data"
    }
   ],
   "source": [
    "plt.scatter(city_weather.iloc[:, 5], city_weather.iloc[:, 7], edgecolors=\"black\")\n",
    "plt.xlabel(\"Latitude\")\n",
    "plt.ylabel(\"Max Temperature (F)\")\n",
    "plt.title(\"City Latitude vs. Max Temperature (04/11/20)\")\n",
    "plt.grid()\n",
    "plt.savefig(\"images/lat_temperature.png\")\n",
    "plt.show()"
   ]
  },
  {
   "cell_type": "markdown",
   "metadata": {},
   "source": [
    "My code is analyzing the relationship between the latitude and the maximum temperature in Fahrenheit. The plot above shows that the close the city lies to the equator (Latitude = 0), the higher is the maximum temperature. The temperature drops more heavily in the Northern Hemishpere at this tome of the year. "
   ]
  },
  {
   "cell_type": "markdown",
   "metadata": {},
   "source": [
    "\n",
    "#### Latitude vs. Humidity Plot"
   ]
  },
  {
   "cell_type": "code",
   "execution_count": 10,
   "metadata": {},
   "outputs": [
    {
     "data": {
      "image/png": "[encoded data removed]",
      "text/plain": [
       "<Figure size 432x288 with 1 Axes>"
      ]
     },
     "metadata": {
      "needs_background": "light"
     },
     "output_type": "display_data"
    }
   ],
   "source": [
    "plt.scatter(city_weather.iloc[:, 5], city_weather.iloc[:, 4], edgecolors=\"black\")\n",
    "plt.xlabel(\"Latitude\")\n",
    "plt.ylabel(\"Humidity (%)\")\n",
    "plt.ylim(0, 300)\n",
    "plt.title(\"City Latitude vs. Humidity (04/11/20)\")\n",
    "plt.grid()\n",
    "plt.savefig(\"images/lat_humidity.png\")\n",
    "plt.show()"
   ]
  },
  {
   "cell_type": "markdown",
   "metadata": {},
   "source": [
    "My code is analyzing the relationship between Latitude and Humidity in percentage. We can see that there is no correlation between the latitude and the humidity in the cities i looked at. However, most cities (Northern and Southern Hemishpere alike) have a humidity over 50 percent. "
   ]
  },
  {
   "cell_type": "markdown",
   "metadata": {},
   "source": [
    "#### Latitude vs. Cloudiness Plot"
   ]
  },
  {
   "cell_type": "code",
   "execution_count": 11,
   "metadata": {},
   "outputs": [
    {
     "data": {
      "image/png": "[encoded data removed]",
      "text/plain": [
       "<Figure size 432x288 with 1 Axes>"
      ]
     },
     "metadata": {
      "needs_background": "light"
     },
     "output_type": "display_data"
    }
   ],
   "source": [
    "plt.scatter(city_weather.iloc[:, 5], city_weather.iloc[:, 1], edgecolors=\"black\")\n",
    "plt.xlabel(\"Latitude\")\n",
    "plt.ylabel(\"Cloudiness (%)\")\n",
    "plt.ylim(0, 100)\n",
    "plt.title(\"City Latitude vs. Cloudiness (04/11/20)\")\n",
    "plt.grid()\n",
    "plt.savefig(\"images/lat_cloud.png\")\n",
    "plt.show()"
   ]
  },
  {
   "cell_type": "markdown",
   "metadata": {},
   "source": [
    "My code is analyzing the relationship betweeen the Latitude and the Cloudiness in percentage. It can be seen that there is absolutely no correlation between Latitude and the percentage of clouds. "
   ]
  },
  {
   "cell_type": "markdown",
   "metadata": {},
   "source": [
    "#### Latitude vs. Wind Speed Plot"
   ]
  },
  {
   "cell_type": "code",
   "execution_count": 12,
   "metadata": {},
   "outputs": [
    {
     "data": {
      "image/png": "[encoded data removed]",
      "text/plain": [
       "<Figure size 432x288 with 1 Axes>"
      ]
     },
     "metadata": {
      "needs_background": "light"
     },
     "output_type": "display_data"
    }
   ],
   "source": [
    "plt.scatter(city_weather.iloc[:, 5], city_weather.iloc[:, 8], edgecolors=\"black\")\n",
    "plt.xlabel(\"Latitude\")\n",
    "plt.ylabel(\"Wind Speed (mph)\")\n",
    "plt.title(\"City Latitude vs. Wind Speed (mph) (04/11/20)\")\n",
    "plt.grid()\n",
    "plt.savefig(\"images/lat_wind_speed.png\")\n",
    "plt.show()"
   ]
  },
  {
   "cell_type": "markdown",
   "metadata": {},
   "source": [
    "My code is analyzing the relationship between Latitude and Wind Speed in mph. Most cities have a Wind Speed between 0 and 15 mph, regardless of their proximity to the Equator (Latitude = 0). There might be a slght increase in Wind Speed for countries between Latitude 40 and 60. "
   ]
  },
  {
   "cell_type": "markdown",
   "metadata": {},
   "source": [
    "## Linear Regression"
   ]
  },
  {
   "cell_type": "code",
   "execution_count": 13,
   "metadata": {},
   "outputs": [],
   "source": [
    "# Create a function to create Linear Regression plots\n",
    "def weather_linear_regression (x_values, y_values, ylabel, coordinates): \n",
    "    \n",
    "    (slope, intercept, rvalue, pvalue, stderr) = linregress(x_values, y_values)\n",
    "    regress_values = x_values * slope + intercept\n",
    "    line_eq = \"y = \" + str(round(slope,2)) + \"x + \" + str(round(intercept, 2))\n",
    "\n",
    "    print(f\"The r-squared is: {rvalue}\")\n",
    "\n",
    "    plt.scatter(x_values, y_values)\n",
    "    plt.plot(x_values, regress_values, \"r-\")\n",
    "    plt.annotate(line_eq, coordinates, fontsize=15, color=\"red\")\n",
    "    plt.xlabel(\"Latitude\")\n",
    "    plt.ylabel(ylabel)\n",
    "    plt.show()"
   ]
  },
  {
   "cell_type": "code",
   "execution_count": 14,
   "metadata": {},
   "outputs": [
    {
     "data": {
      "text/html": [
       "<div>\n",
       "<style scoped>\n",
       "    .dataframe tbody tr th:only-of-type {\n",
       "        vertical-align: middle;\n",
       "    }\n",
       "\n",
       "    .dataframe tbody tr th {\n",
       "        vertical-align: top;\n",
       "    }\n",
       "\n",
       "    .dataframe thead th {\n",
       "        text-align: right;\n",
       "    }\n",
       "</style>\n",
       "<table border=\"1\" class=\"dataframe\">\n",
       "  <thead>\n",
       "    <tr style=\"text-align: right;\">\n",
       "      <th></th>\n",
       "      <th>City</th>\n",
       "      <th>Cloudiness</th>\n",
       "      <th>Country</th>\n",
       "      <th>Date</th>\n",
       "      <th>Humidity</th>\n",
       "      <th>Lat</th>\n",
       "      <th>Lng</th>\n",
       "      <th>Max Temp</th>\n",
       "      <th>Wind Speed</th>\n",
       "    </tr>\n",
       "  </thead>\n",
       "  <tbody>\n",
       "    <tr>\n",
       "      <th>1</th>\n",
       "      <td>Butaritari</td>\n",
       "      <td>100</td>\n",
       "      <td>KI</td>\n",
       "      <td>1586555408</td>\n",
       "      <td>74</td>\n",
       "      <td>3.07</td>\n",
       "      <td>172.79</td>\n",
       "      <td>84.42</td>\n",
       "      <td>9.37</td>\n",
       "    </tr>\n",
       "    <tr>\n",
       "      <th>3</th>\n",
       "      <td>Port Hawkesbury</td>\n",
       "      <td>90</td>\n",
       "      <td>CA</td>\n",
       "      <td>1586555521</td>\n",
       "      <td>69</td>\n",
       "      <td>45.62</td>\n",
       "      <td>-61.35</td>\n",
       "      <td>41.00</td>\n",
       "      <td>18.34</td>\n",
       "    </tr>\n",
       "    <tr>\n",
       "      <th>5</th>\n",
       "      <td>Torbay</td>\n",
       "      <td>90</td>\n",
       "      <td>CA</td>\n",
       "      <td>1586555521</td>\n",
       "      <td>100</td>\n",
       "      <td>47.67</td>\n",
       "      <td>-52.73</td>\n",
       "      <td>41.00</td>\n",
       "      <td>25.28</td>\n",
       "    </tr>\n",
       "    <tr>\n",
       "      <th>6</th>\n",
       "      <td>Kapaa</td>\n",
       "      <td>1</td>\n",
       "      <td>US</td>\n",
       "      <td>1586555372</td>\n",
       "      <td>61</td>\n",
       "      <td>22.08</td>\n",
       "      <td>-159.32</td>\n",
       "      <td>78.80</td>\n",
       "      <td>12.75</td>\n",
       "    </tr>\n",
       "    <tr>\n",
       "      <th>7</th>\n",
       "      <td>Vardø</td>\n",
       "      <td>100</td>\n",
       "      <td>NO</td>\n",
       "      <td>1586555522</td>\n",
       "      <td>90</td>\n",
       "      <td>70.37</td>\n",
       "      <td>31.11</td>\n",
       "      <td>28.89</td>\n",
       "      <td>16.69</td>\n",
       "    </tr>\n",
       "  </tbody>\n",
       "</table>\n",
       "</div>"
      ],
      "text/plain": [
       "              City  Cloudiness Country        Date  Humidity    Lat     Lng  \\\n",
       "1       Butaritari         100      KI  1586555408        74   3.07  172.79   \n",
       "3  Port Hawkesbury          90      CA  1586555521        69  45.62  -61.35   \n",
       "5           Torbay          90      CA  1586555521       100  47.67  -52.73   \n",
       "6            Kapaa           1      US  1586555372        61  22.08 -159.32   \n",
       "7            Vardø         100      NO  1586555522        90  70.37   31.11   \n",
       "\n",
       "   Max Temp  Wind Speed  \n",
       "1     84.42        9.37  \n",
       "3     41.00       18.34  \n",
       "5     41.00       25.28  \n",
       "6     78.80       12.75  \n",
       "7     28.89       16.69  "
      ]
     },
     "execution_count": 14,
     "metadata": {},
     "output_type": "execute_result"
    }
   ],
   "source": [
    "# Northern Hemishpere DateFrame have a Latitude > 0 (0 is the Equator and neither Northern nor Southern)\n",
    "north_df = city_weather.loc[city_weather[\"Lat\"] > 0]\n",
    "north_df.head(5)"
   ]
  },
  {
   "cell_type": "code",
   "execution_count": 15,
   "metadata": {},
   "outputs": [
    {
     "data": {
      "text/html": [
       "<div>\n",
       "<style scoped>\n",
       "    .dataframe tbody tr th:only-of-type {\n",
       "        vertical-align: middle;\n",
       "    }\n",
       "\n",
       "    .dataframe tbody tr th {\n",
       "        vertical-align: top;\n",
       "    }\n",
       "\n",
       "    .dataframe thead th {\n",
       "        text-align: right;\n",
       "    }\n",
       "</style>\n",
       "<table border=\"1\" class=\"dataframe\">\n",
       "  <thead>\n",
       "    <tr style=\"text-align: right;\">\n",
       "      <th></th>\n",
       "      <th>City</th>\n",
       "      <th>Cloudiness</th>\n",
       "      <th>Country</th>\n",
       "      <th>Date</th>\n",
       "      <th>Humidity</th>\n",
       "      <th>Lat</th>\n",
       "      <th>Lng</th>\n",
       "      <th>Max Temp</th>\n",
       "      <th>Wind Speed</th>\n",
       "    </tr>\n",
       "  </thead>\n",
       "  <tbody>\n",
       "    <tr>\n",
       "      <th>0</th>\n",
       "      <td>Mataura</td>\n",
       "      <td>0</td>\n",
       "      <td>NZ</td>\n",
       "      <td>1586555520</td>\n",
       "      <td>95</td>\n",
       "      <td>-46.19</td>\n",
       "      <td>168.86</td>\n",
       "      <td>50.00</td>\n",
       "      <td>3.00</td>\n",
       "    </tr>\n",
       "    <tr>\n",
       "      <th>2</th>\n",
       "      <td>Rikitea</td>\n",
       "      <td>77</td>\n",
       "      <td>PF</td>\n",
       "      <td>1586555478</td>\n",
       "      <td>74</td>\n",
       "      <td>-23.12</td>\n",
       "      <td>-134.97</td>\n",
       "      <td>77.00</td>\n",
       "      <td>5.95</td>\n",
       "    </tr>\n",
       "    <tr>\n",
       "      <th>4</th>\n",
       "      <td>Ushuaia</td>\n",
       "      <td>75</td>\n",
       "      <td>AR</td>\n",
       "      <td>1586555519</td>\n",
       "      <td>70</td>\n",
       "      <td>-54.80</td>\n",
       "      <td>-68.30</td>\n",
       "      <td>46.40</td>\n",
       "      <td>26.40</td>\n",
       "    </tr>\n",
       "    <tr>\n",
       "      <th>10</th>\n",
       "      <td>Saldanha</td>\n",
       "      <td>0</td>\n",
       "      <td>ZA</td>\n",
       "      <td>1586555522</td>\n",
       "      <td>88</td>\n",
       "      <td>-33.01</td>\n",
       "      <td>17.94</td>\n",
       "      <td>62.60</td>\n",
       "      <td>6.93</td>\n",
       "    </tr>\n",
       "    <tr>\n",
       "      <th>15</th>\n",
       "      <td>Constitución</td>\n",
       "      <td>17</td>\n",
       "      <td>CL</td>\n",
       "      <td>1586555523</td>\n",
       "      <td>65</td>\n",
       "      <td>-35.33</td>\n",
       "      <td>-72.42</td>\n",
       "      <td>60.57</td>\n",
       "      <td>10.27</td>\n",
       "    </tr>\n",
       "  </tbody>\n",
       "</table>\n",
       "</div>"
      ],
      "text/plain": [
       "            City  Cloudiness Country        Date  Humidity    Lat     Lng  \\\n",
       "0        Mataura           0      NZ  1586555520        95 -46.19  168.86   \n",
       "2        Rikitea          77      PF  1586555478        74 -23.12 -134.97   \n",
       "4        Ushuaia          75      AR  1586555519        70 -54.80  -68.30   \n",
       "10      Saldanha           0      ZA  1586555522        88 -33.01   17.94   \n",
       "15  Constitución          17      CL  1586555523        65 -35.33  -72.42   \n",
       "\n",
       "    Max Temp  Wind Speed  \n",
       "0      50.00        3.00  \n",
       "2      77.00        5.95  \n",
       "4      46.40       26.40  \n",
       "10     62.60        6.93  \n",
       "15     60.57       10.27  "
      ]
     },
     "execution_count": 15,
     "metadata": {},
     "output_type": "execute_result"
    }
   ],
   "source": [
    "# Southern Hemishpere DateFrame have a Latitude < 0 (0 is the Equator and neither Northern nor Southern)\n",
    "south_df = city_weather.loc[city_weather[\"Lat\"] < 0]\n",
    "south_df.head(5)"
   ]
  },
  {
   "cell_type": "markdown",
   "metadata": {},
   "source": [
    "####  Northern Hemisphere - Max Temp vs. Latitude Linear Regression"
   ]
  },
  {
   "cell_type": "code",
   "execution_count": 78,
   "metadata": {},
   "outputs": [
    {
     "name": "stdout",
     "output_type": "stream",
     "text": [
      "The r-squared is: -0.8994717830027009\n"
     ]
    },
    {
     "data": {
      "image/png": "[encoded data removed]",
      "text/plain": [
       "<Figure size 432x288 with 1 Axes>"
      ]
     },
     "metadata": {
      "needs_background": "light"
     },
     "output_type": "display_data"
    },
    {
     "data": {
      "text/plain": [
       "<Figure size 432x288 with 0 Axes>"
      ]
     },
     "metadata": {},
     "output_type": "display_data"
    }
   ],
   "source": [
    "x_values = north_df[\"Lat\"]\n",
    "y_values = north_df[\"Max Temp\"]\n",
    "\n",
    "weather_linear_regression(x_values, y_values, \"Max Temp\", (10, 15))\n",
    "\n",
    "plt.savefig(\"images/north_lat_max_temp.png\")"
   ]
  },
  {
   "cell_type": "markdown",
   "metadata": {},
   "source": [
    "####  Southern Hemisphere - Max Temp vs. Latitude Linear Regression"
   ]
  },
  {
   "cell_type": "code",
   "execution_count": 16,
   "metadata": {},
   "outputs": [
    {
     "name": "stdout",
     "output_type": "stream",
     "text": [
      "The r-squared is: 0.7203350141797663\n"
     ]
    },
    {
     "data": {
      "image/png": "[encoded data removed]",
      "text/plain": [
       "<Figure size 432x288 with 1 Axes>"
      ]
     },
     "metadata": {
      "needs_background": "light"
     },
     "output_type": "display_data"
    },
    {
     "data": {
      "text/plain": [
       "<Figure size 432x288 with 0 Axes>"
      ]
     },
     "metadata": {},
     "output_type": "display_data"
    }
   ],
   "source": [
    "x_values = south_df[\"Lat\"]\n",
    "y_values = south_df[\"Max Temp\"]\n",
    "\n",
    "weather_linear_regression(x_values, y_values, \"Max Temp\", (-40, 50))\n",
    "\n",
    "plt.savefig(\"images/south_lat_max_temp.png\")\n"
   ]
  },
  {
   "cell_type": "markdown",
   "metadata": {},
   "source": [
    "The Linear Regression is modelling the relationship between Latitude and the Maximum Temperature in Fahrenheit in the Northern and Southern Hemisphere. In the Northern Hemishpere we have a negative relationship, meaning that the higher a city away from the Equator, the lower the Maximum Temperature at the moment. An opposite relationship can be seen for the Southern Hemishpere. This makes sense, since the Maximum Temperature is also decreasing, the further away a city from the Equator. "
   ]
  },
  {
   "cell_type": "markdown",
   "metadata": {},
   "source": [
    "####  Northern Hemisphere - Humidity (%) vs. Latitude Linear Regression"
   ]
  },
  {
   "cell_type": "code",
   "execution_count": 17,
   "metadata": {},
   "outputs": [
    {
     "name": "stdout",
     "output_type": "stream",
     "text": [
      "The r-squared is: 0.31691991871205055\n"
     ]
    },
    {
     "data": {
      "image/png": "[encoded data removed]",
      "text/plain": [
       "<Figure size 432x288 with 1 Axes>"
      ]
     },
     "metadata": {
      "needs_background": "light"
     },
     "output_type": "display_data"
    },
    {
     "data": {
      "text/plain": [
       "<Figure size 432x288 with 0 Axes>"
      ]
     },
     "metadata": {},
     "output_type": "display_data"
    }
   ],
   "source": [
    "x_values = north_df[\"Lat\"]\n",
    "y_values = north_df[\"Humidity\"]\n",
    "\n",
    "weather_linear_regression(x_values, y_values, \"Humidity\", (8, 10))\n",
    "\n",
    "plt.savefig(\"images/north_lat_humidity.png\")\n"
   ]
  },
  {
   "cell_type": "markdown",
   "metadata": {},
   "source": [
    "####  Southern Hemisphere - Humidity (%) vs. Latitude Linear Regression"
   ]
  },
  {
   "cell_type": "code",
   "execution_count": 20,
   "metadata": {},
   "outputs": [
    {
     "name": "stdout",
     "output_type": "stream",
     "text": [
      "The r-squared is: 0.057954850610485026\n"
     ]
    },
    {
     "data": {
      "image/png": "[encoded data removed]",
      "text/plain": [
       "<Figure size 432x288 with 1 Axes>"
      ]
     },
     "metadata": {
      "needs_background": "light"
     },
     "output_type": "display_data"
    },
    {
     "data": {
      "text/plain": [
       "<Figure size 432x288 with 0 Axes>"
      ]
     },
     "metadata": {},
     "output_type": "display_data"
    }
   ],
   "source": [
    "x_values = south_df[\"Lat\"]\n",
    "y_values = south_df[\"Humidity\"]\n",
    "\n",
    "weather_linear_regression(x_values, y_values, \"Humidity\", (-30, 40))\n",
    "\n",
    "plt.savefig(\"images/south_lat_max_temp.png\")\n"
   ]
  },
  {
   "cell_type": "markdown",
   "metadata": {},
   "source": [
    "The Linear Regression is modelling the relationship between Latitute and Humidity in the Northern and Southern Hemisphere. In both Hemishperes, the correlation is positive, but not very high (almost inexistent in the Southern Hemisphere). We can say that in the Northern Hemisphere the further away the city from the Equator, the more likely the city has a higher humdity. However, those numbers might change, choosing a different sample of cities. "
   ]
  },
  {
   "cell_type": "markdown",
   "metadata": {},
   "source": [
    "####  Northern Hemisphere - Cloudiness (%) vs. Latitude Linear Regression"
   ]
  },
  {
   "cell_type": "code",
   "execution_count": 21,
   "metadata": {},
   "outputs": [
    {
     "name": "stdout",
     "output_type": "stream",
     "text": [
      "The r-squared is: 0.13527553159295755\n"
     ]
    },
    {
     "data": {
      "image/png": "[encoded data removed]",
      "text/plain": [
       "<Figure size 432x288 with 1 Axes>"
      ]
     },
     "metadata": {
      "needs_background": "light"
     },
     "output_type": "display_data"
    },
    {
     "data": {
      "text/plain": [
       "<Figure size 432x288 with 0 Axes>"
      ]
     },
     "metadata": {},
     "output_type": "display_data"
    }
   ],
   "source": [
    "x_values = north_df[\"Lat\"]\n",
    "y_values = north_df[\"Cloudiness\"]\n",
    "\n",
    "weather_linear_regression(x_values, y_values, \"Cloudiness\", (30, 5))\n",
    "\n",
    "plt.savefig(\"images/north_lat_cloudiness.png\")\n"
   ]
  },
  {
   "cell_type": "markdown",
   "metadata": {},
   "source": [
    "####  Southern Hemisphere - Cloudiness (%) vs. Latitude Linear Regression"
   ]
  },
  {
   "cell_type": "code",
   "execution_count": 22,
   "metadata": {},
   "outputs": [
    {
     "name": "stdout",
     "output_type": "stream",
     "text": [
      "The r-squared is: 0.28997867916422243\n"
     ]
    },
    {
     "data": {
      "image/png": "[encoded data removed]",
      "text/plain": [
       "<Figure size 432x288 with 1 Axes>"
      ]
     },
     "metadata": {
      "needs_background": "light"
     },
     "output_type": "display_data"
    },
    {
     "data": {
      "text/plain": [
       "<Figure size 432x288 with 0 Axes>"
      ]
     },
     "metadata": {},
     "output_type": "display_data"
    }
   ],
   "source": [
    "x_values = south_df[\"Lat\"]\n",
    "y_values = south_df[\"Cloudiness\"]\n",
    "\n",
    "weather_linear_regression(x_values, y_values, \"Cloudiness\", (-30, 30))\n",
    "\n",
    "\n",
    "plt.savefig(\"images/south_lat_max_temp.png\")\n"
   ]
  },
  {
   "cell_type": "markdown",
   "metadata": {},
   "source": [
    "The Linear Regression is modelling the relationship between Latitude and the Cloudiness (in percentage) in the Northern and Southern Hemisphere. Both regressions show positiv correlations, whilst the one for the Southern Hemisphere is greater than for the Northern. We can see that the closer a city in the Southern Hemisphere lies to the Equator, the more likely it is to be cloudy there. "
   ]
  },
  {
   "cell_type": "markdown",
   "metadata": {},
   "source": [
    "####  Northern Hemisphere - Wind Speed (mph) vs. Latitude Linear Regression"
   ]
  },
  {
   "cell_type": "code",
   "execution_count": 23,
   "metadata": {},
   "outputs": [
    {
     "name": "stdout",
     "output_type": "stream",
     "text": [
      "The r-squared is: 0.17601717678062187\n"
     ]
    },
    {
     "data": {
      "image/png": "[encoded data removed]",
      "text/plain": [
       "<Figure size 432x288 with 1 Axes>"
      ]
     },
     "metadata": {
      "needs_background": "light"
     },
     "output_type": "display_data"
    },
    {
     "data": {
      "text/plain": [
       "<Figure size 432x288 with 0 Axes>"
      ]
     },
     "metadata": {},
     "output_type": "display_data"
    }
   ],
   "source": [
    "x_values = north_df[\"Lat\"]\n",
    "y_values = north_df[\"Wind Speed\"]\n",
    "\n",
    "\n",
    "weather_linear_regression(x_values, y_values, \"Wind Speed\", (5, 10))\n",
    "\n",
    "plt.savefig(\"images/north_lat_wind_speed.png\")\n"
   ]
  },
  {
   "cell_type": "markdown",
   "metadata": {},
   "source": [
    "####  Southern Hemisphere - Wind Speed (mph) vs. Latitude Linear Regression"
   ]
  },
  {
   "cell_type": "code",
   "execution_count": 24,
   "metadata": {},
   "outputs": [
    {
     "name": "stdout",
     "output_type": "stream",
     "text": [
      "The r-squared is: -0.2885403911933489\n"
     ]
    },
    {
     "data": {
      "image/png": "[encoded data removed]",
      "text/plain": [
       "<Figure size 432x288 with 1 Axes>"
      ]
     },
     "metadata": {
      "needs_background": "light"
     },
     "output_type": "display_data"
    },
    {
     "data": {
      "text/plain": [
       "<Figure size 432x288 with 0 Axes>"
      ]
     },
     "metadata": {},
     "output_type": "display_data"
    }
   ],
   "source": [
    "x_values = south_df[\"Lat\"]\n",
    "y_values = south_df[\"Wind Speed\"]\n",
    "\n",
    "weather_linear_regression(x_values, y_values, \"Wind Speed\", (-30, 20))\n",
    "\n",
    "plt.savefig(\"images/south_lat_wind_speed.png\")\n"
   ]
  },
  {
   "cell_type": "markdown",
   "metadata": {},
   "source": [
    "The Linear Regression is modelling the relationship between Latitude and Wind Speed in the Northern and Southern Hemisphere. For the Northern Hemisphere there is a slight positive correlation and for the Southern Hemishpere a slight, but stronger negative correlation. We can say that in for the Southern Hemishpere, the closer a city to the Equator, the more likely the Wind Speed might less than further down in the South. "
   ]
  },
  {
   "cell_type": "markdown",
   "metadata": {},
   "source": [
    "## Three Observable Trends based on the Data"
   ]
  },
  {
   "cell_type": "markdown",
   "metadata": {},
   "source": [
    "1. As expected, cities (on both the Northern and Southern Hemisphere) that are located closer to the Equator have a \n",
    "   higher Maximum Temperature. \n",
    "\n",
    "\n",
    "2. Cities in the Northern Hemisphere show a greater humidity the further away they are located from the Equator, \n",
    "   whilst this trend is much weaker for cities in the Southern Hemisphere.\n",
    "   \n",
    "   \n",
    "3. It is hard to provide a trend about the Cloudiness in relation to the Latitude. However, when we plot the data \n",
    "   seperately for the Northern and Southern Hemishpere can can say that the closer a city in the Southern Hemishpere \n",
    "   is located to the Equator, the more likely the city is more cloudy. This might be counter intuitive, since one \n",
    "   might think that cities closer to the Equator are warmer and thus must have less clouds.  "
   ]
  },
  {
   "cell_type": "code",
   "execution_count": null,
   "metadata": {},
   "outputs": [],
   "source": []
  }
 ],
 "metadata": {
  "anaconda-cloud": {},
  "kernel_info": {
   "name": "python3"
  },
  "kernelspec": {
   "display_name": "Python 3",
   "language": "python",
   "name": "python3"
  },
  "language_info": {
   "codemirror_mode": {
    "name": "ipython",
    "version": 3
   },
   "file_extension": ".py",
   "mimetype": "text/x-python",
   "name": "python",
   "nbconvert_exporter": "python",
   "pygments_lexer": "ipython3",
   "version": "3.6.10"
  },
  "latex_envs": {
   "LaTeX_envs_menu_present": true,
   "autoclose": false,
   "autocomplete": true,
   "bibliofile": "biblio.bib",
   "cite_by": "apalike",
   "current_citInitial": 1,
   "eqLabelWithNumbers": true,
   "eqNumInitial": 1,
   "hotkeys": {
    "equation": "Ctrl-E",
    "itemize": "Ctrl-I"
   },
   "labels_anchors": false,
   "latex_user_defs": false,
   "report_style_numbering": false,
   "user_envs_cfg": false
  },
  "nteract": {
   "version": "0.12.3"
  }
 },
 "nbformat": 4,
 "nbformat_minor": 2
}
